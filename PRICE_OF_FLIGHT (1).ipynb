{
 "cells": [
  {
   "cell_type": "code",
   "execution_count": 1,
   "id": "489d9165",
   "metadata": {},
   "outputs": [
    {
     "name": "stdout",
     "output_type": "stream",
     "text": [
      "Warning: When this code is run, warnings from pandas and seaborn libraries may appear.\n"
     ]
    }
   ],
   "source": [
    "import pandas as pd \n",
    "import numpy as np  \n",
    "import seaborn as sns  \n",
    "import matplotlib.pyplot as plt \n",
    "%matplotlib inline\n",
    "\n",
    "print(\"Warning: When this code is run, warnings from pandas and seaborn libraries may appear.\")\n",
    "\n",
    "try:\n",
    "    import warnings\n",
    "    warnings.filterwarnings('ignore')  \n",
    "except ImportError:\n",
    "    print(\"Warning: Failed to load module 'warnings'. It may not be possible to filter alerts.\")"
   ]
  },
  {
   "cell_type": "code",
   "execution_count": 2,
   "id": "a6be01b4",
   "metadata": {},
   "outputs": [
    {
     "ename": "FileNotFoundError",
     "evalue": "[Errno 2] No such file or directory: 'C:\\\\Users\\\\kadir\\\\Desktop\\\\Flight Price Predication using Machine Learning\\\\PRICE_OF_FLIGHT_DATASET.xlsx'",
     "output_type": "error",
     "traceback": [
      "\u001b[1;31m---------------------------------------------------------------------------\u001b[0m",
      "\u001b[1;31mFileNotFoundError\u001b[0m                         Traceback (most recent call last)",
      "Cell \u001b[1;32mIn[2], line 2\u001b[0m\n\u001b[0;32m      1\u001b[0m file_path \u001b[38;5;241m=\u001b[39m \u001b[38;5;124mr\u001b[39m\u001b[38;5;124m\"\u001b[39m\u001b[38;5;124mC:\u001b[39m\u001b[38;5;124m\\\u001b[39m\u001b[38;5;124mUsers\u001b[39m\u001b[38;5;124m\\\u001b[39m\u001b[38;5;124mkadir\u001b[39m\u001b[38;5;124m\\\u001b[39m\u001b[38;5;124mDesktop\u001b[39m\u001b[38;5;124m\\\u001b[39m\u001b[38;5;124mFlight Price Predication using Machine Learning\u001b[39m\u001b[38;5;124m\\\u001b[39m\u001b[38;5;124mPRICE_OF_FLIGHT_DATASET.xlsx\u001b[39m\u001b[38;5;124m\"\u001b[39m\n\u001b[1;32m----> 2\u001b[0m data \u001b[38;5;241m=\u001b[39m pd\u001b[38;5;241m.\u001b[39mread_excel(file_path)\n\u001b[0;32m      3\u001b[0m \u001b[38;5;28mprint\u001b[39m(data\u001b[38;5;241m.\u001b[39mhead())\n",
      "File \u001b[1;32m~\\anaconda3\\Lib\\site-packages\\pandas\\util\\_decorators.py:211\u001b[0m, in \u001b[0;36mdeprecate_kwarg.<locals>._deprecate_kwarg.<locals>.wrapper\u001b[1;34m(*args, **kwargs)\u001b[0m\n\u001b[0;32m    209\u001b[0m     \u001b[38;5;28;01melse\u001b[39;00m:\n\u001b[0;32m    210\u001b[0m         kwargs[new_arg_name] \u001b[38;5;241m=\u001b[39m new_arg_value\n\u001b[1;32m--> 211\u001b[0m \u001b[38;5;28;01mreturn\u001b[39;00m func(\u001b[38;5;241m*\u001b[39margs, \u001b[38;5;241m*\u001b[39m\u001b[38;5;241m*\u001b[39mkwargs)\n",
      "File \u001b[1;32m~\\anaconda3\\Lib\\site-packages\\pandas\\util\\_decorators.py:331\u001b[0m, in \u001b[0;36mdeprecate_nonkeyword_arguments.<locals>.decorate.<locals>.wrapper\u001b[1;34m(*args, **kwargs)\u001b[0m\n\u001b[0;32m    325\u001b[0m \u001b[38;5;28;01mif\u001b[39;00m \u001b[38;5;28mlen\u001b[39m(args) \u001b[38;5;241m>\u001b[39m num_allow_args:\n\u001b[0;32m    326\u001b[0m     warnings\u001b[38;5;241m.\u001b[39mwarn(\n\u001b[0;32m    327\u001b[0m         msg\u001b[38;5;241m.\u001b[39mformat(arguments\u001b[38;5;241m=\u001b[39m_format_argument_list(allow_args)),\n\u001b[0;32m    328\u001b[0m         \u001b[38;5;167;01mFutureWarning\u001b[39;00m,\n\u001b[0;32m    329\u001b[0m         stacklevel\u001b[38;5;241m=\u001b[39mfind_stack_level(),\n\u001b[0;32m    330\u001b[0m     )\n\u001b[1;32m--> 331\u001b[0m \u001b[38;5;28;01mreturn\u001b[39;00m func(\u001b[38;5;241m*\u001b[39margs, \u001b[38;5;241m*\u001b[39m\u001b[38;5;241m*\u001b[39mkwargs)\n",
      "File \u001b[1;32m~\\anaconda3\\Lib\\site-packages\\pandas\\io\\excel\\_base.py:482\u001b[0m, in \u001b[0;36mread_excel\u001b[1;34m(io, sheet_name, header, names, index_col, usecols, squeeze, dtype, engine, converters, true_values, false_values, skiprows, nrows, na_values, keep_default_na, na_filter, verbose, parse_dates, date_parser, thousands, decimal, comment, skipfooter, convert_float, mangle_dupe_cols, storage_options)\u001b[0m\n\u001b[0;32m    480\u001b[0m \u001b[38;5;28;01mif\u001b[39;00m \u001b[38;5;129;01mnot\u001b[39;00m \u001b[38;5;28misinstance\u001b[39m(io, ExcelFile):\n\u001b[0;32m    481\u001b[0m     should_close \u001b[38;5;241m=\u001b[39m \u001b[38;5;28;01mTrue\u001b[39;00m\n\u001b[1;32m--> 482\u001b[0m     io \u001b[38;5;241m=\u001b[39m ExcelFile(io, storage_options\u001b[38;5;241m=\u001b[39mstorage_options, engine\u001b[38;5;241m=\u001b[39mengine)\n\u001b[0;32m    483\u001b[0m \u001b[38;5;28;01melif\u001b[39;00m engine \u001b[38;5;129;01mand\u001b[39;00m engine \u001b[38;5;241m!=\u001b[39m io\u001b[38;5;241m.\u001b[39mengine:\n\u001b[0;32m    484\u001b[0m     \u001b[38;5;28;01mraise\u001b[39;00m \u001b[38;5;167;01mValueError\u001b[39;00m(\n\u001b[0;32m    485\u001b[0m         \u001b[38;5;124m\"\u001b[39m\u001b[38;5;124mEngine should not be specified when passing \u001b[39m\u001b[38;5;124m\"\u001b[39m\n\u001b[0;32m    486\u001b[0m         \u001b[38;5;124m\"\u001b[39m\u001b[38;5;124man ExcelFile - ExcelFile already has the engine set\u001b[39m\u001b[38;5;124m\"\u001b[39m\n\u001b[0;32m    487\u001b[0m     )\n",
      "File \u001b[1;32m~\\anaconda3\\Lib\\site-packages\\pandas\\io\\excel\\_base.py:1652\u001b[0m, in \u001b[0;36mExcelFile.__init__\u001b[1;34m(self, path_or_buffer, engine, storage_options)\u001b[0m\n\u001b[0;32m   1650\u001b[0m     ext \u001b[38;5;241m=\u001b[39m \u001b[38;5;124m\"\u001b[39m\u001b[38;5;124mxls\u001b[39m\u001b[38;5;124m\"\u001b[39m\n\u001b[0;32m   1651\u001b[0m \u001b[38;5;28;01melse\u001b[39;00m:\n\u001b[1;32m-> 1652\u001b[0m     ext \u001b[38;5;241m=\u001b[39m inspect_excel_format(\n\u001b[0;32m   1653\u001b[0m         content_or_path\u001b[38;5;241m=\u001b[39mpath_or_buffer, storage_options\u001b[38;5;241m=\u001b[39mstorage_options\n\u001b[0;32m   1654\u001b[0m     )\n\u001b[0;32m   1655\u001b[0m     \u001b[38;5;28;01mif\u001b[39;00m ext \u001b[38;5;129;01mis\u001b[39;00m \u001b[38;5;28;01mNone\u001b[39;00m:\n\u001b[0;32m   1656\u001b[0m         \u001b[38;5;28;01mraise\u001b[39;00m \u001b[38;5;167;01mValueError\u001b[39;00m(\n\u001b[0;32m   1657\u001b[0m             \u001b[38;5;124m\"\u001b[39m\u001b[38;5;124mExcel file format cannot be determined, you must specify \u001b[39m\u001b[38;5;124m\"\u001b[39m\n\u001b[0;32m   1658\u001b[0m             \u001b[38;5;124m\"\u001b[39m\u001b[38;5;124man engine manually.\u001b[39m\u001b[38;5;124m\"\u001b[39m\n\u001b[0;32m   1659\u001b[0m         )\n",
      "File \u001b[1;32m~\\anaconda3\\Lib\\site-packages\\pandas\\io\\excel\\_base.py:1525\u001b[0m, in \u001b[0;36minspect_excel_format\u001b[1;34m(content_or_path, storage_options)\u001b[0m\n\u001b[0;32m   1522\u001b[0m \u001b[38;5;28;01mif\u001b[39;00m \u001b[38;5;28misinstance\u001b[39m(content_or_path, \u001b[38;5;28mbytes\u001b[39m):\n\u001b[0;32m   1523\u001b[0m     content_or_path \u001b[38;5;241m=\u001b[39m BytesIO(content_or_path)\n\u001b[1;32m-> 1525\u001b[0m \u001b[38;5;28;01mwith\u001b[39;00m get_handle(\n\u001b[0;32m   1526\u001b[0m     content_or_path, \u001b[38;5;124m\"\u001b[39m\u001b[38;5;124mrb\u001b[39m\u001b[38;5;124m\"\u001b[39m, storage_options\u001b[38;5;241m=\u001b[39mstorage_options, is_text\u001b[38;5;241m=\u001b[39m\u001b[38;5;28;01mFalse\u001b[39;00m\n\u001b[0;32m   1527\u001b[0m ) \u001b[38;5;28;01mas\u001b[39;00m handle:\n\u001b[0;32m   1528\u001b[0m     stream \u001b[38;5;241m=\u001b[39m handle\u001b[38;5;241m.\u001b[39mhandle\n\u001b[0;32m   1529\u001b[0m     stream\u001b[38;5;241m.\u001b[39mseek(\u001b[38;5;241m0\u001b[39m)\n",
      "File \u001b[1;32m~\\anaconda3\\Lib\\site-packages\\pandas\\io\\common.py:865\u001b[0m, in \u001b[0;36mget_handle\u001b[1;34m(path_or_buf, mode, encoding, compression, memory_map, is_text, errors, storage_options)\u001b[0m\n\u001b[0;32m    856\u001b[0m         handle \u001b[38;5;241m=\u001b[39m \u001b[38;5;28mopen\u001b[39m(\n\u001b[0;32m    857\u001b[0m             handle,\n\u001b[0;32m    858\u001b[0m             ioargs\u001b[38;5;241m.\u001b[39mmode,\n\u001b[1;32m   (...)\u001b[0m\n\u001b[0;32m    861\u001b[0m             newline\u001b[38;5;241m=\u001b[39m\u001b[38;5;124m\"\u001b[39m\u001b[38;5;124m\"\u001b[39m,\n\u001b[0;32m    862\u001b[0m         )\n\u001b[0;32m    863\u001b[0m     \u001b[38;5;28;01melse\u001b[39;00m:\n\u001b[0;32m    864\u001b[0m         \u001b[38;5;66;03m# Binary mode\u001b[39;00m\n\u001b[1;32m--> 865\u001b[0m         handle \u001b[38;5;241m=\u001b[39m \u001b[38;5;28mopen\u001b[39m(handle, ioargs\u001b[38;5;241m.\u001b[39mmode)\n\u001b[0;32m    866\u001b[0m     handles\u001b[38;5;241m.\u001b[39mappend(handle)\n\u001b[0;32m    868\u001b[0m \u001b[38;5;66;03m# Convert BytesIO or file objects passed with an encoding\u001b[39;00m\n",
      "\u001b[1;31mFileNotFoundError\u001b[0m: [Errno 2] No such file or directory: 'C:\\\\Users\\\\kadir\\\\Desktop\\\\Flight Price Predication using Machine Learning\\\\PRICE_OF_FLIGHT_DATASET.xlsx'"
     ]
    }
   ],
   "source": [
    "file_path = r\"C:\\Users\\kadir\\Desktop\\Flight Price Predication using Machine Learning\\PRICE_OF_FLIGHT_DATASET.xlsx\"\n",
    "data = pd.read_excel(file_path)\n",
    "print(data.head())\n"
   ]
  },
  {
   "cell_type": "code",
   "execution_count": null,
   "id": "f6faf907",
   "metadata": {},
   "outputs": [],
   "source": [
    "num_rows = len(data)\n",
    "print('Number of Rows:', num_rows)\n",
    "\n",
    "num_columns = len(data.columns)\n",
    "print('Number of Columns:', num_columns)\n",
    "\n",
    "pd.set_option('display.max_columns', None)\n",
    "data.head()\n"
   ]
  },
  {
   "cell_type": "code",
   "execution_count": null,
   "id": "42a3db93",
   "metadata": {},
   "outputs": [],
   "source": [
    "data.drop(columns='Unnamed: 0', inplace =True)"
   ]
  },
  {
   "cell_type": "code",
   "execution_count": null,
   "id": "b586723a",
   "metadata": {},
   "outputs": [],
   "source": [
    "grouped_columns = data.columns.to_series().groupby(data.dtypes)\n",
    "\n",
    "for dtype, columns in grouped_columns:\n",
    "    print(f\"Data type: {dtype}\")\n",
    "    print(\", \".join(columns.tolist()))\n",
    "    print()"
   ]
  },
  {
   "cell_type": "markdown",
   "id": "acdd654a",
   "metadata": {},
   "source": [
    "# Data Consistency Check"
   ]
  },
  {
   "cell_type": "code",
   "execution_count": null,
   "id": "b12b2d3a",
   "metadata": {},
   "outputs": [],
   "source": [
    "data.duplicated().sum()"
   ]
  },
  {
   "cell_type": "code",
   "execution_count": null,
   "id": "ce4c2c67",
   "metadata": {},
   "outputs": [],
   "source": [
    "unwanted_values = [' ', '?', '-', 'null', 'NA']\n",
    "\n",
    "has_unwanted_values = data.isin(unwanted_values).any().any()\n",
    "\n",
    "print(has_unwanted_values)\n"
   ]
  },
  {
   "cell_type": "code",
   "execution_count": null,
   "id": "0961674c",
   "metadata": {},
   "outputs": [],
   "source": [
    "plt.figure(figsize=(10,7))\n",
    "sns.heatmap(data.isnull(), cmap= 'cool_r')\n",
    "plt.show()"
   ]
  },
  {
   "cell_type": "markdown",
   "id": "590ba3bf",
   "metadata": {},
   "source": [
    "# Data Preprocessing"
   ]
  },
  {
   "cell_type": "code",
   "execution_count": null,
   "id": "04b3e56b",
   "metadata": {},
   "outputs": [],
   "source": [
    "data['Duration'] = data['Duration'].map(lambda x : x.replace('06m','6m'))"
   ]
  },
  {
   "cell_type": "code",
   "execution_count": null,
   "id": "01e693ed",
   "metadata": {},
   "outputs": [],
   "source": [
    "data['Duration'] = data['Duration'].apply(lambda x: int(x.split('h')[0]) * 60 + int(x.split('h')[1].split('m')[0]))\n",
    "\n",
    "data['Duration'] = pd.to_numeric(data['Duration'])"
   ]
  },
  {
   "cell_type": "code",
   "execution_count": null,
   "id": "e233797d",
   "metadata": {},
   "outputs": [],
   "source": [
    "data['Day']= data['Date'].map(lambda x :x[:3])"
   ]
  },
  {
   "cell_type": "code",
   "execution_count": null,
   "id": "62f12e1b",
   "metadata": {},
   "outputs": [],
   "source": [
    "data['Date']= data['Date'].map(lambda x :x[4:])"
   ]
  },
  {
   "cell_type": "code",
   "execution_count": null,
   "id": "f5f82c61",
   "metadata": {},
   "outputs": [],
   "source": [
    "Categorical = ['Airline','Class','Day','Stops','Aeroplane']"
   ]
  },
  {
   "cell_type": "code",
   "execution_count": null,
   "id": "e9f61830",
   "metadata": {},
   "outputs": [],
   "source": [
    "pd.set_option('display.max_rows',None)\n",
    "for i in Categorical :\n",
    "    print(i)\n",
    "    print(data[i].value_counts())\n",
    "    print('='*100)"
   ]
  },
  {
   "cell_type": "code",
   "execution_count": null,
   "id": "80d3bd49",
   "metadata": {},
   "outputs": [],
   "source": [
    "summary = data.describe(include='object')\n",
    "\n",
    "styled_summary = summary.style.background_gradient(cmap='summer_r')\n",
    "\n",
    "styled_summary\n"
   ]
  },
  {
   "cell_type": "markdown",
   "id": "9e33fe52",
   "metadata": {},
   "source": [
    "# EDA"
   ]
  },
  {
   "cell_type": "code",
   "execution_count": null,
   "id": "c63bc726",
   "metadata": {},
   "outputs": [],
   "source": [
    "plt.figure(figsize=(16, 8))\n",
    "\n",
    "plt.subplot(1, 2, 1)\n",
    "data['Airline'].value_counts().plot.pie(autopct='%2.1f%%', textprops={'fontsize': 13, 'fontweight': 'bold'}, shadow=True)\n",
    "plt.title('Flight-based Distribution of Airlines', fontsize=18, fontweight='bold')\n",
    "plt.ylabel('')\n",
    "\n",
    "plt.subplot(1, 2, 2)\n",
    "sns.countplot(x='Airline', data=data)\n",
    "plt.title('Airline Vs Number of Flights', fontsize=18, fontweight='bold')\n",
    "plt.xlabel(\"Airline\", fontsize=18, fontweight='bold')\n",
    "plt.ylabel(\"Number of Flights\", fontsize=18, fontweight='bold')\n",
    "plt.xticks(fontsize=12, rotation=90)\n",
    "\n",
    "plt.tight_layout()\n",
    "plt.show()\n"
   ]
  },
  {
   "cell_type": "code",
   "execution_count": null,
   "id": "d18edef7",
   "metadata": {},
   "outputs": [],
   "source": [
    "plt.rcParams[\"figure.autolayout\"] = True\n",
    "sns.set_palette('Set1_r')\n",
    "f,ax=plt.subplots(1,2,figsize=(14,6))\n",
    "data['Class'].value_counts().plot.pie(autopct='%2.1f%%',\n",
    "                                    textprops={'fontsize': 13, 'fontweight': 'bold'}, ax=ax[0], shadow=True)\n",
    "ax[0].set_title('Class-Wise Distribution of Flights', fontsize=20, fontweight='bold')\n",
    "ax[0].set_ylabel('')\n",
    "sns.countplot(x='Class', data=data, ax=ax[1])\n",
    "\n",
    "ax[1].set_title('Class Vs Number of Flights', fontsize=18, fontweight='bold')\n",
    "ax[1].set_xlabel(\"Class\", fontsize=18, fontweight='bold')\n",
    "ax[1].set_ylabel(\"Number of Flights\", fontsize=18, fontweight='bold')\n",
    "ax[1].set_xticklabels(ax[1].get_xticklabels(), fontsize=12, fontweight='bold')\n",
    "plt.tight_layout()\n",
    "plt.show()\n",
    "\n",
    "\n",
    "\n",
    "\n",
    "\n",
    "\n"
   ]
  },
  {
   "cell_type": "code",
   "execution_count": null,
   "id": "de7da6be",
   "metadata": {},
   "outputs": [],
   "source": [
    "# Counting No of stops\n",
    "plt.rcParams[\"figure.autolayout\"] = True\n",
    "sns.set_palette('hsv')\n",
    "f,ax=plt.subplots(1,2,figsize=(14,6))\n",
    "data['Stops'].value_counts().plot.pie(autopct='%2.1f%%',\n",
    "                                          textprops ={ 'fontsize':14,'fontweight' :'bold'}, ax=ax[0],shadow=True)\n",
    "ax[0].set_title('Stops-Wise Distribution of Flights', fontsize=20,fontweight ='bold')\n",
    "ax[0].set_ylabel('')\n",
    "sns.countplot(x='Stops', data=data, ax=ax[1])\n",
    "\n",
    "ax[1].set_title('Stops Vs Number of Flights',fontsize=18,fontweight ='bold')\n",
    "ax[1].set_xlabel(\"Stops\",fontsize=18,fontweight ='bold')\n",
    "ax[1].set_ylabel(\"Number of Flights\",fontsize=18,fontweight ='bold')\n",
    "plt.xticks(fontsize=12,fontweight ='bold')\n",
    "plt.tight_layout()\n",
    "plt.show()"
   ]
  },
  {
   "cell_type": "code",
   "execution_count": null,
   "id": "273a6bdf",
   "metadata": {},
   "outputs": [],
   "source": [
    "plt.rcParams[\"figure.autolayout\"] = True\n",
    "sns.set_palette('hsv')\n",
    "f, ax = plt.subplots(1, 2, figsize=(14, 6))\n",
    "data['Day'].value_counts().plot.pie(autopct='%2.1f%%',\n",
    "                                   textprops={'fontsize': 14, 'fontweight': 'bold'}, ax=ax[0], shadow=True)\n",
    "ax[0].set_title('Day-Wise Distribution of Flights', fontsize=20, fontweight='bold')\n",
    "ax[0].set_ylabel('')\n",
    "\n",
    "sns.countplot(x='Day', data=data, ax=ax[1])\n",
    "ax[1].set_title('Day Vs Number of Flights', fontsize=18, fontweight='bold')\n",
    "ax[1].set_xlabel(\"Day\", fontsize=18, fontweight='bold')\n",
    "ax[1].set_ylabel(\"Number of Flights\", fontsize=18, fontweight='bold')\n",
    "plt.xticks(fontsize=12, fontweight='bold', rotation=45)  \n",
    "plt.tight_layout()\n",
    "plt.show()\n"
   ]
  },
  {
   "cell_type": "code",
   "execution_count": null,
   "id": "7f88be24",
   "metadata": {},
   "outputs": [],
   "source": [
    "plt.rcParams[\"figure.autolayout\"] = True\n",
    "sns.set_palette('gnuplot')\n",
    "plt.figure(figsize =(16,8))\n",
    "sns.barplot(x=data['Day'],y=data['Price'],hue=data['Class'])\n",
    "plt.title(\"Day Vs Price\",fontsize=20,fontweight ='bold')\n",
    "plt.xlabel('Day',fontsize = 20,fontweight ='bold')\n",
    "plt.ylabel('Average Price of Flights',fontsize = 22,fontweight ='bold')\n",
    "plt.tight_layout()\n",
    "plt.show()"
   ]
  },
  {
   "cell_type": "code",
   "execution_count": null,
   "id": "905d2bd2",
   "metadata": {},
   "outputs": [],
   "source": [
    "plt.rcParams[\"figure.autolayout\"] = True\n",
    "sns.set_palette('gnuplot')\n",
    "plt.figure(figsize =(14,7))\n",
    "sns.barplot(x=data['Class'],y=data['Duration'],hue=data['Stops'])\n",
    "plt.title(\"Class Vs Duration\",fontsize=20,fontweight ='bold')\n",
    "plt.xlabel('Class',fontsize = 20,fontweight ='bold')\n",
    "plt.ylabel('Average Duration of Flights',fontsize = 22,fontweight ='bold')\n",
    "plt.tight_layout()\n",
    "plt.show()"
   ]
  },
  {
   "cell_type": "code",
   "execution_count": null,
   "id": "4eab6908",
   "metadata": {},
   "outputs": [],
   "source": [
    "plt.rcParams[\"figure.autolayout\"] = True\n",
    "sns.set_palette('viridis')\n",
    "plt.figure(figsize =(14,7))\n",
    "sns.countplot(x=data['Date'])\n",
    "plt.title(\"Date-wise Flight Distribution\",fontsize=20,fontweight ='bold')\n",
    "plt.xlabel('Date',fontsize = 20,fontweight ='bold')\n",
    "plt.ylabel('Number of Flights',fontsize = 21,fontweight ='bold')\n",
    "plt.tight_layout()\n",
    "plt.show()\n"
   ]
  },
  {
   "cell_type": "code",
   "execution_count": null,
   "id": "64c2ba4b",
   "metadata": {},
   "outputs": [],
   "source": [
    "plt.rcParams[\"figure.autolayout\"] = True\n",
    "palette = sns.color_palette('hsv', n_colors=3)  # Renk paletini oluştur\n",
    "dark_palette = [tuple(color * 0.8 for color in rgb) for rgb in palette]  # Renkleri biraz daha koyu yap\n",
    "sns.set_palette(dark_palette)\n",
    "plt.figure(figsize=(9,6))\n",
    "sns.swarmplot(y=data['Duration'], x=data['Stops'], hue=data['Class'], alpha=0.7)  # Noktaları daha belirgin yapmak için alpha parametresi eklendi\n",
    "plt.title(\"Stops VS Duration\", fontsize=20, fontweight='bold')\n",
    "plt.xlabel('Number of Stops', fontsize=20, fontweight='bold')\n",
    "plt.ylabel('Duration', fontsize=20, fontweight='bold')\n",
    "plt.tight_layout()\n",
    "plt.show()"
   ]
  },
  {
   "cell_type": "code",
   "execution_count": null,
   "id": "0560b3e8",
   "metadata": {},
   "outputs": [],
   "source": [
    "plt.rcParams[\"figure.autolayout\"] = True\n",
    "sns.set_palette('mako')\n",
    "plt.figure(figsize =(12,8))\n",
    "sns.swarmplot(y=data['Price'],x=data['Stops'], hue= data['Day'])\n",
    "plt.title(\"Price VS Stops\",fontsize=20,fontweight ='bold')\n",
    "plt.xlabel('Number of Stop',fontsize = 20,fontweight ='bold')\n",
    "plt.ylabel('Price',fontsize = 20,fontweight ='bold')\n",
    "plt.tight_layout()\n",
    "plt.show()"
   ]
  },
  {
   "cell_type": "code",
   "execution_count": null,
   "id": "8ddb39f1",
   "metadata": {},
   "outputs": [],
   "source": [
    "plt.rcParams[\"figure.autolayout\"] = True\n",
    "sns.set_palette(\"deep\")\n",
    "plt.figure(figsize =(10,8))\n",
    "sns.swarmplot(x=data['Airline'],y=data['Duration'], hue =data['Class'])\n",
    "plt.title(\"Airline VS Duration\",fontsize=20,fontweight ='bold')\n",
    "plt.xlabel('Airline',fontsize = 20,fontweight ='bold')\n",
    "plt.ylabel('Duration',fontsize = 20,fontweight ='bold')\n",
    "plt.tight_layout()\n",
    "plt.show()"
   ]
  },
  {
   "cell_type": "code",
   "execution_count": null,
   "id": "b99cdd75",
   "metadata": {},
   "outputs": [],
   "source": [
    "plt.rcParams[\"figure.autolayout\"] = True\n",
    "palette = sns.color_palette('hsv', n_colors=3)  \n",
    "dark_palette = [tuple(color * 0.8 for color in rgb) for rgb in palette]  \n",
    "sns.set_palette(dark_palette)\n",
    "\n",
    "plt.figure(figsize=(9,6))\n",
    "sns.scatterplot(x=data['Stops'], y=data['Duration'], hue=data['Class'], alpha=0.7, palette='hsv')  \n",
    "\n",
    "plt.title(\"Stops VS Duration\", fontsize=20, fontweight='bold')\n",
    "plt.xlabel('Number of Stops', fontsize=20, fontweight='bold')\n",
    "plt.ylabel('Duration', fontsize=20, fontweight='bold')\n",
    "plt.tight_layout()\n",
    "plt.show()\n"
   ]
  },
  {
   "cell_type": "markdown",
   "id": "f8046474",
   "metadata": {},
   "source": [
    "# Feature Engineering"
   ]
  },
  {
   "cell_type": "code",
   "execution_count": null,
   "id": "1aa1ab6a",
   "metadata": {},
   "outputs": [],
   "source": [
    "data.drop(columns=['Departure_Time','Arrival_Time','Source','Destination'], inplace= True)"
   ]
  },
  {
   "cell_type": "code",
   "execution_count": null,
   "id": "c6c095ca",
   "metadata": {},
   "outputs": [],
   "source": [
    "for column_name, dtype in zip(data.columns, data.dtypes):\n",
    "    print(f\"Column Name: {column_name}, Data Type: {dtype}\")\n"
   ]
  },
  {
   "cell_type": "code",
   "execution_count": null,
   "id": "bf6e8766",
   "metadata": {},
   "outputs": [],
   "source": [
    "Categorical = ['Airline', 'Class', 'Aeroplane', 'Date', 'Stops', 'Day']\n",
    "Numerical = ['Duration', 'Price']"
   ]
  },
  {
   "cell_type": "code",
   "execution_count": null,
   "id": "11301c1d",
   "metadata": {},
   "outputs": [],
   "source": [
    "def clean_value(value):\n",
    "    return str(value).replace('-', '').replace('/', '')\n",
    "\n",
    "data['Aeroplane'] = data['Aeroplane'].apply(clean_value)\n",
    "\n"
   ]
  },
  {
   "cell_type": "code",
   "execution_count": null,
   "id": "a94ffb61",
   "metadata": {},
   "outputs": [],
   "source": [
    "from sklearn.preprocessing import LabelEncoder\n",
    "le = LabelEncoder()\n",
    "for i in Categorical:\n",
    "    data[i] =le.fit_transform(data[i])\n",
    "data.head()"
   ]
  },
  {
   "cell_type": "code",
   "execution_count": null,
   "id": "a661660f",
   "metadata": {},
   "outputs": [],
   "source": [
    "plt.figure(figsize=(15,4), facecolor='white')\n",
    "plt_num = 1\n",
    "\n",
    "for i in Numerical:\n",
    "    if plt_num <= 2:\n",
    "        ax = plt.subplot(1,2,plt_num)\n",
    "        custom_palette = sns.color_palette('husl')  \n",
    "        sns.boxplot(data[i], palette=custom_palette) \n",
    "        plt.xlabel(i, fontsize=16)\n",
    "    plt_num += 1\n",
    "\n",
    "plt.show()\n"
   ]
  },
  {
   "cell_type": "code",
   "execution_count": null,
   "id": "dcd1d17a",
   "metadata": {},
   "outputs": [],
   "source": [
    "data.corr()"
   ]
  },
  {
   "cell_type": "code",
   "execution_count": null,
   "id": "e6ee3391",
   "metadata": {},
   "outputs": [],
   "source": [
    "plt.figure(figsize=(12,8))\n",
    "sns.heatmap(data.corr(),linecolor='black', vmin=-1, vmax=1, annot=True, square=True, fmt='0.4f', \n",
    "            annot_kws={'size':9}, cmap='gist_stern')\n",
    "plt.xticks(fontsize=11)\n",
    "plt.yticks(fontsize=11)\n",
    "plt.show()"
   ]
  },
  {
   "cell_type": "code",
   "execution_count": null,
   "id": "2d12838f",
   "metadata": {},
   "outputs": [],
   "source": [
    "plt.figure(figsize = (12,6))\n",
    "data.corr()['Price'].drop(['Price']).sort_values(ascending=False).plot(kind='bar',cmap = 'spring')\n",
    "plt.xlabel('Features',fontsize=15,fontweight='bold')\n",
    "plt.ylabel('Price (USD)',fontsize=15,fontweight='bold')\n",
    "plt.title('Correlation of features with Target Variable Price (USD)',fontsize = 20,fontweight='bold')\n",
    "plt.show()"
   ]
  },
  {
   "cell_type": "code",
   "execution_count": null,
   "id": "96432752",
   "metadata": {},
   "outputs": [],
   "source": [
    "data.skew()"
   ]
  },
  {
   "cell_type": "code",
   "execution_count": null,
   "id": "5769174e",
   "metadata": {},
   "outputs": [],
   "source": [
    "X = data.drop(['Price'], axis=1)\n",
    "Y = data['Price']"
   ]
  },
  {
   "cell_type": "code",
   "execution_count": null,
   "id": "fee8f7d3",
   "metadata": {},
   "outputs": [],
   "source": [
    "from sklearn.preprocessing import StandardScaler\n",
    "scaler = StandardScaler()\n",
    "X_scale = scaler.fit_transform(X)"
   ]
  },
  {
   "cell_type": "markdown",
   "id": "c28ad32a",
   "metadata": {},
   "source": [
    "# Model Building"
   ]
  },
  {
   "cell_type": "code",
   "execution_count": null,
   "id": "c2f57e97",
   "metadata": {},
   "outputs": [],
   "source": [
    "from sklearn.metrics import mean_squared_error, mean_absolute_error, r2_score\n",
    "from sklearn.model_selection import train_test_split\n",
    "from sklearn.linear_model import LinearRegression\n",
    "from sklearn.ensemble import RandomForestRegressor\n",
    "from sklearn.tree import DecisionTreeRegressor\n",
    "from sklearn.ensemble import ExtraTreesRegressor\n",
    "from sklearn.linear_model import Lasso\n",
    "from xgboost import XGBRegressor"
   ]
  },
  {
   "cell_type": "code",
   "execution_count": null,
   "id": "b67fb87a",
   "metadata": {},
   "outputs": [],
   "source": [
    "X_train, X_test, Y_train, Y_test = train_test_split(X_scale, Y, random_state=99, test_size=0.33)\n",
    "print('Training Feature Matrix Size:', X_train.shape)\n",
    "print('Training Target Vector Size :', Y_train.shape)\n",
    "print('Test Feature Matrix Size:', X_test.shape)\n",
    "print('Test Target Vector Size:', Y_test.shape)"
   ]
  },
  {
   "cell_type": "code",
   "execution_count": null,
   "id": "42527f4a",
   "metadata": {},
   "outputs": [],
   "source": [
    "models = {\n",
    "    'Linear Regression': LinearRegression(),\n",
    "    'Lasso Regression': Lasso(),\n",
    "    'Random Forest Regressor': RandomForestRegressor(),\n",
    "    'Extra Trees Regressor': ExtraTreesRegressor(),\n",
    "    'Decision Tree Regressor': DecisionTreeRegressor(),\n",
    "    'XGBoost Regressor': XGBRegressor()\n",
    "}"
   ]
  },
  {
   "cell_type": "code",
   "execution_count": null,
   "id": "81e3dc1c",
   "metadata": {},
   "outputs": [],
   "source": [
    "maxR2_score=0\n",
    "maxRS=0\n",
    "for i in range(50,500):\n",
    "    X_train, X_test, Y_train, Y_test = train_test_split(X_scale, Y, random_state=i, test_size=.33)\n",
    "    lin_reg=LinearRegression()\n",
    "    lin_reg.fit(X_train,Y_train)\n",
    "    y_pred=lin_reg.predict(X_test)\n",
    "    R2=r2_score(Y_test,y_pred)\n",
    "    if R2>maxR2_score:\n",
    "        maxR2_score=R2\n",
    "        maxRS=i\n",
    "print('Best R2 Score is', maxR2_score ,'on Random_state', maxRS)"
   ]
  },
  {
   "cell_type": "code",
   "execution_count": null,
   "id": "85ac222e",
   "metadata": {},
   "outputs": [],
   "source": [
    "X_train, X_test, Y_train, Y_test = train_test_split(X_scale, Y, random_state= 70, test_size=0.33)\n",
    "lin_reg= LinearRegression()\n",
    "lin_reg.fit(X_train, Y_train)\n",
    "y_pred = lin_reg.predict(X_test)\n",
    "print('\\033[1m'+ 'Error :'+ '\\033[0m')\n",
    "print('Mean absolute error :', mean_absolute_error(Y_test,y_pred))\n",
    "print('Mean squared error :', mean_squared_error(Y_test, y_pred))\n",
    "print('Root Mean squared error :', np.sqrt(mean_squared_error(Y_test, y_pred)))\n",
    "print('\\033[1m'+' R2 Score :'+'\\033[0m')\n",
    "print(r2_score(Y_test,y_pred)*100)"
   ]
  },
  {
   "cell_type": "code",
   "execution_count": null,
   "id": "7b20e78f",
   "metadata": {},
   "outputs": [],
   "source": [
    "from sklearn.model_selection import cross_val_score\n",
    "score = cross_val_score(lin_reg, X_scale, Y, cv=5)\n",
    "print('\\033[1m'+'Cross Validation Score :',lin_reg,\":\"+'\\033[0m\\n')\n",
    "print(\"Mean CV Score :\",score.mean())"
   ]
  },
  {
   "cell_type": "code",
   "execution_count": null,
   "id": "e24e4110",
   "metadata": {},
   "outputs": [],
   "source": [
    "X_train, X_test, Y_train, Y_test = train_test_split(X_scale, Y, random_state= 70, test_size=0.33)\n",
    "rfc = RandomForestRegressor()\n",
    "rfc.fit(X_train, Y_train)\n",
    "y_pred = rfc.predict(X_test)\n",
    "print('\\033[1m'+ 'Error of Random Forest Regressor:'+ '\\033[0m')\n",
    "print('Mean absolute error :', mean_absolute_error(Y_test,y_pred))\n",
    "print('Mean squared error :', mean_squared_error(Y_test, y_pred))\n",
    "print('Root Mean squared error :', np.sqrt(mean_squared_error(Y_test, y_pred)))\n",
    "print('\\033[1m'+'R2 Score of Random Forest Regressor :'+'\\033[0m')\n",
    "print(r2_score(Y_test,y_pred)*100)"
   ]
  },
  {
   "cell_type": "code",
   "execution_count": null,
   "id": "a1ce8f4f",
   "metadata": {},
   "outputs": [],
   "source": [
    "from sklearn.model_selection import cross_val_score\n",
    "score = cross_val_score(rfc, X_scale, Y, cv=5)\n",
    "print('\\033[1m'+'Cross Validation Score :',rfc,\":\"+'\\033[0m\\n')\n",
    "print(\"Mean CV Score :\",score.mean())"
   ]
  },
  {
   "cell_type": "code",
   "execution_count": null,
   "id": "aa31f6a7",
   "metadata": {},
   "outputs": [],
   "source": [
    "X_train, X_test, Y_train, Y_test = train_test_split(X_scale, Y, random_state= 70, test_size=0.33)\n",
    "dtc = DecisionTreeRegressor()\n",
    "dtc.fit(X_train, Y_train)\n",
    "y_pred = dtc.predict(X_test)\n",
    "print('\\033[1m'+ 'Error of Decision Tree Regressor:'+ '\\033[0m')\n",
    "print('Mean absolute error :', mean_absolute_error(Y_test,y_pred))\n",
    "print('Mean squared error :', mean_squared_error(Y_test, y_pred))\n",
    "print('Root Mean squared error :', np.sqrt(mean_squared_error(Y_test, y_pred)))\n",
    "print('\\033[1m'+'R2 Score of Decision Tree Regressor :'+'\\033[0m')\n",
    "print(r2_score(Y_test,y_pred)*100)"
   ]
  },
  {
   "cell_type": "code",
   "execution_count": null,
   "id": "d09771f7",
   "metadata": {},
   "outputs": [],
   "source": [
    "from sklearn.model_selection import cross_val_score\n",
    "score = cross_val_score(dtc, X_scale, Y, cv=5)\n",
    "print('\\033[1m'+'Cross Validation Score :',dtc,\":\"+'\\033[0m\\n')\n",
    "print(\"Mean CV Score :\",score.mean())"
   ]
  },
  {
   "cell_type": "code",
   "execution_count": null,
   "id": "66dd1e5e",
   "metadata": {},
   "outputs": [],
   "source": [
    "X_train, X_test, Y_train, Y_test = train_test_split(X_scale, Y, random_state= 70, test_size=0.33)\n",
    "etc = ExtraTreesRegressor()\n",
    "dtc.fit(X_train, Y_train)\n",
    "y_pred = dtc.predict(X_test)\n",
    "print('\\033[1m'+ 'Error of Extra Tree Regressor:'+ '\\033[0m')\n",
    "print('Mean absolute error :', mean_absolute_error(Y_test,y_pred))\n",
    "print('Mean squared error :', mean_squared_error(Y_test, y_pred))\n",
    "print('Root Mean squared error :', np.sqrt(mean_squared_error(Y_test, y_pred)))\n",
    "print('\\033[1m'+'R2 Score of Extra Tree Regressor :'+'\\033[0m')\n",
    "print(r2_score(Y_test,y_pred)*100)"
   ]
  },
  {
   "cell_type": "code",
   "execution_count": null,
   "id": "fd372a44",
   "metadata": {},
   "outputs": [],
   "source": [
    "from sklearn.model_selection import cross_val_score\n",
    "score = cross_val_score(etc, X_scale, Y, cv=5)\n",
    "print('\\033[1m'+'Cross Validation Score :',etc,\":\"+'\\033[0m\\n')\n",
    "print(\"Mean CV Score :\",score.mean())"
   ]
  },
  {
   "cell_type": "code",
   "execution_count": null,
   "id": "96b06d0c",
   "metadata": {},
   "outputs": [],
   "source": [
    "X_train, X_test, Y_train, Y_test = train_test_split(X_scale, Y, random_state=70, test_size=0.33)\n",
    "\n",
    "lasso = Lasso()\n",
    "lasso.fit(X_train, Y_train)\n",
    "\n",
    "y_pred = lasso.predict(X_test)\n",
    "\n",
    "mae = mean_absolute_error(Y_test, y_pred)\n",
    "mse = mean_squared_error(Y_test, y_pred)\n",
    "rmse = np.sqrt(mean_squared_error(Y_test, y_pred))\n",
    "r2 = r2_score(Y_test, y_pred) * 100\n",
    "\n",
    "print('\\033[1mError of Lasso Regressor:\\033[0m')\n",
    "print(f'Mean absolute error : {mae}')\n",
    "print(f'Mean squared error : {mse}')\n",
    "print(f'Root Mean squared error : {rmse}')\n",
    "print('\\033[1mR2 Score of Lasso Regressor :\\033[0m')\n",
    "print(f'{r2}')"
   ]
  },
  {
   "cell_type": "code",
   "execution_count": null,
   "id": "a860f84b",
   "metadata": {},
   "outputs": [],
   "source": [
    "lasso = Lasso()\n",
    "\n",
    "scores = cross_val_score(lasso, X_scale, Y, cv=5)\n",
    "\n",
    "mean_score = scores.mean()\n",
    "\n",
    "print('\\033[1mCross Validation Score for Lasso Regression:\\033[0m\\n')\n",
    "print(\"Mean CV Score:\", mean_score)"
   ]
  },
  {
   "cell_type": "code",
   "execution_count": null,
   "id": "d5e143d2",
   "metadata": {},
   "outputs": [],
   "source": [
    "X_train, X_test, Y_train, Y_test = train_test_split(X_scale, Y, random_state= 70, test_size=0.33)\n",
    "xgb = XGBRegressor()\n",
    "xgb.fit(X_train, Y_train)\n",
    "y_pred = xgb.predict(X_test)\n",
    "print('\\033[1m'+ 'Error of XGB Regressor:'+ '\\033[0m')\n",
    "print('Mean absolute error :', mean_absolute_error(Y_test,y_pred))\n",
    "print('Mean squared error :', mean_squared_error(Y_test, y_pred))\n",
    "print('Root Mean squared error :', np.sqrt(mean_squared_error(Y_test, y_pred)))\n",
    "print('\\033[1m'+'R2 Score of XGB Regressor :'+'\\033[0m')\n",
    "print(r2_score(Y_test,y_pred)*100)"
   ]
  },
  {
   "cell_type": "code",
   "execution_count": null,
   "id": "c091ba87",
   "metadata": {},
   "outputs": [],
   "source": [
    "from sklearn.model_selection import cross_val_score\n",
    "score = cross_val_score(xgb, X_scale, Y, cv=5)\n",
    "print('\\033[1m'+'Cross Validation Score :',xgb,\":\"+'\\033[0m\\n')\n",
    "print(\"Mean CV Score :\",score.mean())"
   ]
  },
  {
   "cell_type": "code",
   "execution_count": null,
   "id": "09df974e",
   "metadata": {},
   "outputs": [],
   "source": [
    "from sklearn.model_selection import GridSearchCV"
   ]
  },
  {
   "cell_type": "code",
   "execution_count": null,
   "id": "8052996e",
   "metadata": {},
   "outputs": [],
   "source": [
    "X_train, X_test, Y_train, Y_test = train_test_split(X_scale, Y, random_state=70, test_size=0.33)"
   ]
  },
  {
   "cell_type": "code",
   "execution_count": null,
   "id": "416d26cf",
   "metadata": {},
   "outputs": [],
   "source": [
    "parameter = {'n_estimators':[400,500],'gamma':np.arange(0,0.2,0.1),\n",
    "              'booster' : ['gbtree','dart','gblinear'], 'max_depth':[6,8],\n",
    "              'eta' : [0.01, 0.1] }"
   ]
  },
  {
   "cell_type": "code",
   "execution_count": null,
   "id": "89651c05",
   "metadata": {},
   "outputs": [],
   "source": [
    "GCV = GridSearchCV(XGBRegressor(),parameter,verbose =10)"
   ]
  },
  {
   "cell_type": "code",
   "execution_count": null,
   "id": "d031a68e",
   "metadata": {},
   "outputs": [],
   "source": [
    "GCV.fit(X_train,Y_train)"
   ]
  },
  {
   "cell_type": "code",
   "execution_count": null,
   "id": "fb5754da",
   "metadata": {},
   "outputs": [],
   "source": [
    "GCV.best_params_"
   ]
  },
  {
   "cell_type": "markdown",
   "id": "685cc75a",
   "metadata": {},
   "source": [
    "# FINAL STAGE MODEL"
   ]
  },
  {
   "cell_type": "code",
   "execution_count": null,
   "id": "470dbee7",
   "metadata": {},
   "outputs": [],
   "source": [
    "Final_mod=XGBRegressor(booster='gbtree', max_depth=6, eta=0.1,\n",
    "                                gamma=0.1, n_estimators=400)\n",
    "Final_mod.fit(X_train,Y_train)\n",
    "pred=Final_mod.predict(X_test)\n",
    "print('R2_Score:',r2_score(Y_test,pred)*100)\n",
    "print('mean_squared_error:',mean_squared_error(Y_test,pred))\n",
    "print('mean_absolute_error:',mean_absolute_error(Y_test,pred))\n",
    "print(\"RMSE value:\",np.sqrt(mean_squared_error(Y_test, pred)))\n"
   ]
  },
  {
   "cell_type": "code",
   "execution_count": null,
   "id": "f8136a17",
   "metadata": {},
   "outputs": [],
   "source": [
    "import joblib\n",
    "joblib.dump(Final_mod,\"Prediction_Of _Flight _Prices.pkl\")"
   ]
  },
  {
   "cell_type": "code",
   "execution_count": null,
   "id": "57c26b30",
   "metadata": {},
   "outputs": [],
   "source": [
    "model = joblib.load(\"Prediction_Of _Flight _Prices.pkl\")\n",
    "\n",
    "prediction = model.predict(X_test)\n",
    "prediction"
   ]
  },
  {
   "cell_type": "code",
   "execution_count": null,
   "id": "b808c822",
   "metadata": {},
   "outputs": [],
   "source": [
    "pd.DataFrame([model.predict(X_test)[:], Y_test[:]], index = ['Predicted', 'Actual'])"
   ]
  },
  {
   "cell_type": "code",
   "execution_count": null,
   "id": "e6bc3004",
   "metadata": {},
   "outputs": [],
   "source": [
    "from xgboost import XGBRegressor\n",
    "\n",
    "\n",
    "model = XGBRegressor()\n",
    "model.fit(X_train, y_train)\n",
    "\n",
    "\n",
    "model.save_model(\"flight_price_model.xgb\")\n"
   ]
  },
  {
   "cell_type": "code",
   "execution_count": null,
   "id": "887989f3",
   "metadata": {},
   "outputs": [],
   "source": []
  }
 ],
 "metadata": {
  "kernelspec": {
   "display_name": "Python 3 (ipykernel)",
   "language": "python",
   "name": "python3"
  },
  "language_info": {
   "codemirror_mode": {
    "name": "ipython",
    "version": 3
   },
   "file_extension": ".py",
   "mimetype": "text/x-python",
   "name": "python",
   "nbconvert_exporter": "python",
   "pygments_lexer": "ipython3",
   "version": "3.11.3"
  }
 },
 "nbformat": 4,
 "nbformat_minor": 5
}
